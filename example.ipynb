{
 "cells": [
  {
   "cell_type": "code",
   "execution_count": 2,
   "metadata": {},
   "outputs": [],
   "source": [
    "import numpy as np\n",
    "import pandas as pd\n",
    "import matplotlib.pyplot as plt\n",
    "from main_oop import CSR_KB"
   ]
  },
  {
   "cell_type": "code",
   "execution_count": null,
   "metadata": {},
   "outputs": [],
   "source": [
    "def read_data(breakpoints):\n",
    "    df = pd.read_csv('test1.csv')[:1000].reset_index(drop=True)\n",
    "    \n",
    "    exog = np.array([])\n",
    "    endog = np.array([])\n",
    "    prev_break = 0\n",
    "    for _break in breakpoints:\n",
    "        exog = np.append(exog, np.array(list(map(lambda x: [x], df[' timeExp'][prev_break:_break]))))\n",
    "        endog = np.append(endog, np.array(list(map(lambda x: [x], df[' controller_x'][prev_break:_break]))))\n",
    "        prev_break = _break\n",
    "\n",
    "    return exog, endog"
   ]
  },
  {
   "cell_type": "code",
   "execution_count": null,
   "metadata": {},
   "outputs": [],
   "source": [
    "def test_methods():\n",
    "    model = CSR_KB(endog, breakpoints, exog, weights = weights, seg_weights = seg_weights)\n",
    "\n",
    "    for method in ['qr', 'qr2', 'normal', 'svd']:\n",
    "    \n",
    "        betas = model.fit(method=method)\n",
    "\n",
    "        plt.plot(df[' timeExp'], df[' controller_x'])\n",
    "\n",
    "        for i in range(len(betas)):\n",
    "            plt.plot(np.array(list(map(lambda x: [x], df[' timeExp'][breakpoints[i]:breakpoints[i+1]]))), exog[breakpoints[i]:breakpoints[i+1], :].dot(betas[i]))\n",
    "\n",
    "        plt.show()\n"
   ]
  },
  {
   "cell_type": "code",
   "execution_count": null,
   "metadata": {},
   "outputs": [],
   "source": [
    "breakpoints = [0, 450, 500, 550, 610, 666, 710, 827, 941, 1000]\n",
    "\n",
    "exog, endog = read_data(breakpoints)\n",
    "\n",
    "weights =  np.arange(1, len(exog)+1)\n",
    "\n",
    "seg_weights = np.arange(1, len(breakpoints))\n",
    "seg_weights[5] = 100"
   ]
  },
  {
   "cell_type": "code",
   "execution_count": null,
   "metadata": {},
   "outputs": [],
   "source": []
  },
  {
   "cell_type": "code",
   "execution_count": null,
   "metadata": {},
   "outputs": [],
   "source": [
    "\n",
    "\n",
    "\n",
    "\n",
    "\"\"\"\n",
    "mu = np.repeat(1, len(exog))\n",
    "betas = model.fit_regularized(mu = np.repeat(0, len(breakpoints)-1))\n",
    "betas = model.fit(method='qr2')\n",
    "\"\"\"\n",
    "\n",
    "\n",
    "\"\"\"\n",
    "for method in ['qr', 'qr2', 'normal', 'svd']:\n",
    "    print(method, timeit.timeit(lambda: model.fit(method=method), number = 10000))\n",
    "\"\"\""
   ]
  }
 ],
 "metadata": {
  "kernelspec": {
   "display_name": "CSR-KB",
   "language": "python",
   "name": "python3"
  },
  "language_info": {
   "codemirror_mode": {
    "name": "ipython",
    "version": 3
   },
   "file_extension": ".py",
   "mimetype": "text/x-python",
   "name": "python",
   "nbconvert_exporter": "python",
   "pygments_lexer": "ipython3",
   "version": "3.9.19"
  }
 },
 "nbformat": 4,
 "nbformat_minor": 2
}
